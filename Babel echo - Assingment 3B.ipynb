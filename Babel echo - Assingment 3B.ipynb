{
 "cells": [
  {
   "cell_type": "code",
   "execution_count": 1,
   "metadata": {},
   "outputs": [],
   "source": [
    "import pyttsx3  \n",
    "import speech_recognition as sr\n",
    "from googletrans import Translator"
   ]
  },
  {
   "cell_type": "code",
   "execution_count": 2,
   "metadata": {},
   "outputs": [],
   "source": [
    "def voice_to_text():\n",
    "    r = sr.Recognizer()\n",
    "    with sr.Microphone() as source:\n",
    "      print('Speak..')\n",
    "      audio = r.listen(source, timeout=3)\n",
    "      print('Converting to text..')\n",
    "\n",
    "    try:\n",
    "      text = r.recognize_google(audio, language='hi-IN')\n",
    "      print(\"\\n\\n\" + text)\n",
    "      return text\n",
    "    except:\n",
    "      pass\n",
    "\n",
    "\n",
    "def text_to_voice(command): \n",
    "    engine = pyttsx3.init() \n",
    "    voices = engine.getProperty('voices')\n",
    "    engine.setProperty(\"voice\", voices[1].id)\n",
    "    engine.say(command)  \n",
    "    engine.runAndWait() \n",
    "    \n",
    "\n",
    "def to_english(text):\n",
    "    translator = Translator()\n",
    "    trans = translator.translate(text, src='hi', dest='en')\n",
    "    print('\\n English: ' + trans.text)\n",
    "    return trans.text\n",
    "    \n",
    "    \n",
    "def to_hindi(text):\n",
    "    translator = Translator()\n",
    "    trans = translator.translate(text, src='en', dest='hi')\n",
    "    print('\\n Hindi: ' + trans.text)\n",
    "    return trans.text"
   ]
  },
  {
   "cell_type": "code",
   "execution_count": 3,
   "metadata": {},
   "outputs": [
    {
     "name": "stdout",
     "output_type": "stream",
     "text": [
      "Speak..\n",
      "Converting to text..\n",
      "\n",
      "\n",
      "क्या हाल है\n"
     ]
    }
   ],
   "source": [
    "text = voice_to_text()"
   ]
  },
  {
   "cell_type": "code",
   "execution_count": 4,
   "metadata": {},
   "outputs": [
    {
     "name": "stdout",
     "output_type": "stream",
     "text": [
      "\n",
      " English: How are you\n",
      "\n",
      " Hindi: क्या हाल है\n"
     ]
    }
   ],
   "source": [
    "eng = to_english(text)\n",
    "hin = to_hindi(eng)"
   ]
  },
  {
   "cell_type": "code",
   "execution_count": 5,
   "metadata": {},
   "outputs": [],
   "source": [
    "text_to_voice(hin)"
   ]
  }
 ],
 "metadata": {
  "kernelspec": {
   "display_name": "test",
   "language": "python",
   "name": "test"
  },
  "language_info": {
   "codemirror_mode": {
    "name": "ipython",
    "version": 3
   },
   "file_extension": ".py",
   "mimetype": "text/x-python",
   "name": "python",
   "nbconvert_exporter": "python",
   "pygments_lexer": "ipython3",
   "version": "3.6.5"
  }
 },
 "nbformat": 4,
 "nbformat_minor": 2
}
