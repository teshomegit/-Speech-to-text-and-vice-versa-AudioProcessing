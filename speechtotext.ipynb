{
  "nbformat": 4,
  "nbformat_minor": 0,
  "metadata": {
    "colab": {
      "name": "Untitled0.ipynb",
      "provenance": [],
      "collapsed_sections": [],
      "authorship_tag": "ABX9TyOV1JcvrLjcwQbP5O+hwKP3",
      "include_colab_link": true
    },
    "kernelspec": {
      "name": "python3",
      "display_name": "Python 3"
    },
    "language_info": {
      "name": "python"
    }
  },
  "cells": [
    {
      "cell_type": "markdown",
      "metadata": {
        "id": "view-in-github",
        "colab_type": "text"
      },
      "source": [
        "<a href=\"https://colab.research.google.com/github/teshomegit/-Speech-to-text-and-vice-versa-AudioProcessing/blob/main/speechtotext.ipynb\" target=\"_parent\"><img src=\"https://colab.research.google.com/assets/colab-badge.svg\" alt=\"Open In Colab\"/></a>"
      ]
    },
    {
      "cell_type": "code",
      "execution_count": null,
      "metadata": {
        "id": "QWb8rbxnu5bZ"
      },
      "outputs": [],
      "source": [
        "import pyttsx3  \n",
        "import speech_recognition as sr\n",
        "from googletrans import Translato"
      ]
    },
    {
      "cell_type": "code",
      "source": [
        "def voice_to_text():\n",
        "    r = sr.Recognizer()\n",
        "    with sr.Microphone() as source:\n",
        "      print('Speak..')\n",
        "      audio = r.listen(source, timeout=3)\n",
        "      print('Converting to text..')\n",
        "\n",
        "    try:\n",
        "      text = r.recognize_google(audio, language='hi-IN')\n",
        "      print(\"\\n\\n\" + text)\n",
        "      return text\n",
        "    except:\n",
        "      pass\n",
        "\n",
        "\n",
        "def text_to_voice(command): \n",
        "    engine = pyttsx3.init() \n",
        "    voices = engine.getProperty('voices')\n",
        "    engine.setProperty(\"voice\", voices[1].id)\n",
        "    engine.say(command)  \n",
        "    engine.runAndWait() \n",
        "    \n",
        "\n",
        "def to_english(text):\n",
        "    translator = Translator()\n",
        "    trans = translator.translate(text, src='hi', dest='en')\n",
        "    print('\\n English: ' + trans.text)\n",
        "    return trans.text\n",
        "    \n",
        "    \n",
        "def to_hindi(text):\n",
        "    translator = Translator()\n",
        "    trans = translator.translate(text, src='en', dest='hi')\n",
        "    print('\\n Hindi: ' + trans.text)\n",
        "    return trans.text\n"
      ],
      "metadata": {
        "id": "B4Evl-V9vGUd"
      },
      "execution_count": null,
      "outputs": []
    },
    {
      "cell_type": "code",
      "source": [
        "text = voice_to_text()"
      ],
      "metadata": {
        "id": "VGkuKQFEvQna"
      },
      "execution_count": null,
      "outputs": []
    },
    {
      "cell_type": "code",
      "source": [
        "eng = to_english(text)\n",
        "hin = to_hindi(eng)"
      ],
      "metadata": {
        "id": "39WGt2bkvZAq"
      },
      "execution_count": null,
      "outputs": []
    },
    {
      "cell_type": "code",
      "source": [
        "text_to_voice(hin)"
      ],
      "metadata": {
        "id": "oDOVsd5XvanS"
      },
      "execution_count": null,
      "outputs": []
    }
  ]
}